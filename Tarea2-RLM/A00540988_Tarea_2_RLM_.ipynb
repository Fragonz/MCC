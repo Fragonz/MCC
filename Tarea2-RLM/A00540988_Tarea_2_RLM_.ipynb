{
 "cells": [
  {
   "cell_type": "markdown",
   "metadata": {
    "colab_type": "text",
    "id": "swgRFv6LPVVS"
   },
   "source": [
    "# **ITESM Campus Guadalajara**\n",
    "## Aprendizaje de Máquinas\n",
    "## Tarea 2 Regresión Lineal Múltiple\n",
    "\n",
    "### **A00540988 Luis Francisco González Rodíguez**\n",
    "\n",
    "\n",
    "---\n",
    "\n"
   ]
  },
  {
   "cell_type": "markdown",
   "metadata": {
    "colab_type": "text",
    "id": "SXvAlZWpQ2Yu"
   },
   "source": [
    "# 1.  En este ejercicio usaremos la base de datos de Boston_housing_dataset (https://www.kaggle.com/apratim87/housingdata) la cual consta de 13 variables independientes y la variable dependiente. Son 506 datos de casas cuyo objetivo es la predicción de su costo (MEDV)."
   ]
  },
  {
   "cell_type": "code",
   "execution_count": 28,
   "metadata": {
    "colab": {
     "base_uri": "https://localhost:8080/",
     "height": 104
    },
    "colab_type": "code",
    "id": "6JebvfpoXFkC",
    "outputId": "6e5f0b6a-0571-4194-cb31-9259eb95a7e1"
   },
   "outputs": [
    {
     "name": "stdout",
     "output_type": "stream",
     "text": [
      "  % Total    % Received % Xferd  Average Speed   Time    Time     Time  Current\n",
      "                                 Dload  Upload   Total   Spent    Left  Speed\n",
      "\r",
      "  0     0    0     0    0     0      0      0 --:--:-- --:--:-- --:--:--     0\r",
      "100 35136  100 35136    0     0   252k      0 --:--:-- --:--:-- --:--:--  252k\n",
      "datasets_270_583_housingdata.csv  sample_data\n",
      "/content\n"
     ]
    }
   ],
   "source": [
    "# Carga de librerias necesarias para leer y procesar los datos.\n",
    "import numpy as np\n",
    "import pandas as pd\n",
    "import matplotlib.pyplot as plt\n",
    "import statsmodels.api as sm\n",
    "\n",
    "#Cargar Data Set tal como se decargóó del sitio de Kaggle\n",
    "!curl -O https://raw.githubusercontent.com/Fragonz/MCC/master/Tarea2-RLM/data/datasets_270_583_housingdata.csv\n",
    "!ls\n",
    "!pwd\n",
    "dspath = \"/content/datasets_270_583_housingdata.csv\"\n"
   ]
  },
  {
   "cell_type": "markdown",
   "metadata": {
    "colab_type": "text",
    "id": "aLpoj3zCim82"
   },
   "source": [
    "**Examinemos el Data Set para ver su contenido.**\n",
    "\n"
   ]
  },
  {
   "cell_type": "code",
   "execution_count": 48,
   "metadata": {
    "colab": {
     "base_uri": "https://localhost:8080/",
     "height": 206
    },
    "colab_type": "code",
    "id": "KzIAlOllbYPh",
    "outputId": "00dde41d-52a6-47e5-9e05-5dc21386b52f"
   },
   "outputs": [
    {
     "data": {
      "text/html": [
       "<div>\n",
       "<style scoped>\n",
       "    .dataframe tbody tr th:only-of-type {\n",
       "        vertical-align: middle;\n",
       "    }\n",
       "\n",
       "    .dataframe tbody tr th {\n",
       "        vertical-align: top;\n",
       "    }\n",
       "\n",
       "    .dataframe thead th {\n",
       "        text-align: right;\n",
       "    }\n",
       "</style>\n",
       "<table border=\"1\" class=\"dataframe\">\n",
       "  <thead>\n",
       "    <tr style=\"text-align: right;\">\n",
       "      <th></th>\n",
       "      <th>0</th>\n",
       "      <th>1</th>\n",
       "      <th>2</th>\n",
       "      <th>3</th>\n",
       "      <th>4</th>\n",
       "      <th>5</th>\n",
       "      <th>6</th>\n",
       "      <th>7</th>\n",
       "      <th>8</th>\n",
       "      <th>9</th>\n",
       "      <th>10</th>\n",
       "      <th>11</th>\n",
       "      <th>12</th>\n",
       "      <th>13</th>\n",
       "    </tr>\n",
       "  </thead>\n",
       "  <tbody>\n",
       "    <tr>\n",
       "      <th>0</th>\n",
       "      <td>0.00632</td>\n",
       "      <td>18.0</td>\n",
       "      <td>2.31</td>\n",
       "      <td>0</td>\n",
       "      <td>0.538</td>\n",
       "      <td>6.575</td>\n",
       "      <td>65.2</td>\n",
       "      <td>4.0900</td>\n",
       "      <td>1</td>\n",
       "      <td>296</td>\n",
       "      <td>15.3</td>\n",
       "      <td>396.90</td>\n",
       "      <td>4.98</td>\n",
       "      <td>24.0</td>\n",
       "    </tr>\n",
       "    <tr>\n",
       "      <th>1</th>\n",
       "      <td>0.02731</td>\n",
       "      <td>0.0</td>\n",
       "      <td>7.07</td>\n",
       "      <td>0</td>\n",
       "      <td>0.469</td>\n",
       "      <td>6.421</td>\n",
       "      <td>78.9</td>\n",
       "      <td>4.9671</td>\n",
       "      <td>2</td>\n",
       "      <td>242</td>\n",
       "      <td>17.8</td>\n",
       "      <td>396.90</td>\n",
       "      <td>9.14</td>\n",
       "      <td>21.6</td>\n",
       "    </tr>\n",
       "    <tr>\n",
       "      <th>2</th>\n",
       "      <td>0.02729</td>\n",
       "      <td>0.0</td>\n",
       "      <td>7.07</td>\n",
       "      <td>0</td>\n",
       "      <td>0.469</td>\n",
       "      <td>7.185</td>\n",
       "      <td>61.1</td>\n",
       "      <td>4.9671</td>\n",
       "      <td>2</td>\n",
       "      <td>242</td>\n",
       "      <td>17.8</td>\n",
       "      <td>392.83</td>\n",
       "      <td>4.03</td>\n",
       "      <td>34.7</td>\n",
       "    </tr>\n",
       "    <tr>\n",
       "      <th>3</th>\n",
       "      <td>0.03237</td>\n",
       "      <td>0.0</td>\n",
       "      <td>2.18</td>\n",
       "      <td>0</td>\n",
       "      <td>0.458</td>\n",
       "      <td>6.998</td>\n",
       "      <td>45.8</td>\n",
       "      <td>6.0622</td>\n",
       "      <td>3</td>\n",
       "      <td>222</td>\n",
       "      <td>18.7</td>\n",
       "      <td>394.63</td>\n",
       "      <td>2.94</td>\n",
       "      <td>33.4</td>\n",
       "    </tr>\n",
       "    <tr>\n",
       "      <th>4</th>\n",
       "      <td>0.06905</td>\n",
       "      <td>0.0</td>\n",
       "      <td>2.18</td>\n",
       "      <td>0</td>\n",
       "      <td>0.458</td>\n",
       "      <td>7.147</td>\n",
       "      <td>54.2</td>\n",
       "      <td>6.0622</td>\n",
       "      <td>3</td>\n",
       "      <td>222</td>\n",
       "      <td>18.7</td>\n",
       "      <td>396.90</td>\n",
       "      <td>5.33</td>\n",
       "      <td>36.2</td>\n",
       "    </tr>\n",
       "  </tbody>\n",
       "</table>\n",
       "</div>"
      ],
      "text/plain": [
       "        0     1     2   3      4      5   ...  8    9     10      11    12    13\n",
       "0  0.00632  18.0  2.31   0  0.538  6.575  ...   1  296  15.3  396.90  4.98  24.0\n",
       "1  0.02731   0.0  7.07   0  0.469  6.421  ...   2  242  17.8  396.90  9.14  21.6\n",
       "2  0.02729   0.0  7.07   0  0.469  7.185  ...   2  242  17.8  392.83  4.03  34.7\n",
       "3  0.03237   0.0  2.18   0  0.458  6.998  ...   3  222  18.7  394.63  2.94  33.4\n",
       "4  0.06905   0.0  2.18   0  0.458  7.147  ...   3  222  18.7  396.90  5.33  36.2\n",
       "\n",
       "[5 rows x 14 columns]"
      ]
     },
     "execution_count": 48,
     "metadata": {
      "tags": []
     },
     "output_type": "execute_result"
    }
   ],
   "source": [
    "mydata = pd.read_csv(dspath, header=None)\n",
    "mydata.head()"
   ]
  },
  {
   "cell_type": "markdown",
   "metadata": {
    "colab_type": "text",
    "id": "ELYCaKFBkCCG"
   },
   "source": [
    "---\n",
    "Después de examinar el dataset podemos comprobar que este archivo no contiene **headers** y debemos agregarlos siguiendo las instrucciones del sitio de Keggle: https://www.kaggle.com/apratim87/housingdata?select=housingdata.csv el cual nos dice que las columnas estan en orden y con las siguientes etiquetas:\n",
    "\n",
    "**Variables in order:**\n",
    "\n",
    "* CRIM - per capita crime rate by town\n",
    "* ZN - proportion of residential land zoned for lots over 25,000 sq.ft.\n",
    "* CHAS - Charles River dummy variable (= 1 if tract bounds river; 0 otherwise)\n",
    "* NOX - nitric oxides concentration (parts per 10 million)\n",
    "* RM - average number of rooms per dwelling\n",
    "* AGE - proportion of owner-occupied units built prior to 1940\n",
    "* DIS - weighted distances to five Boston employment centres\n",
    "* RAD - index of accessibility to radial highways\n",
    "* TAX - full value property tax rate per 10'000\n",
    "* PTRATIO - pupil teacher ratio by town\n",
    "* B 1000 - (Bk - 0.63)^2 where Bk is the proportion of blacks by town\n",
    "* LSTAT % - lower status of the population\n",
    "* MEDV - Median value of owner-occupied homes in $1000's\n",
    "\n",
    "---"
   ]
  },
  {
   "cell_type": "code",
   "execution_count": 50,
   "metadata": {
    "colab": {},
    "colab_type": "code",
    "id": "4kAmdlAucpZj"
   },
   "outputs": [],
   "source": [
    "# Agregamos las etiquetas a las columnas \n",
    "column_labels=[\"CRIM\",\"ZN\",\"INDUS\",\"CHAS\",\"NOX\",\"RM\",\"AGE\",\"DIS\",\"RAD\",\"TAX\",\"PTRATIO\",\"BK\",\"LSTAT\",\"MEDV\"]\n",
    "mydata.columns = column_labels"
   ]
  },
  {
   "cell_type": "markdown",
   "metadata": {
    "colab_type": "text",
    "id": "OUO-i04SnlWo"
   },
   "source": [
    "**Revisamos nuestro dataset con los nombres de columnas para poder manipular nuestros datos:**\n",
    "\n",
    "---"
   ]
  },
  {
   "cell_type": "code",
   "execution_count": 51,
   "metadata": {
    "colab": {
     "base_uri": "https://localhost:8080/",
     "height": 206
    },
    "colab_type": "code",
    "id": "xxSELpESnvgf",
    "outputId": "2fe7b947-152c-46f9-c19d-a2dcec98d0f4"
   },
   "outputs": [
    {
     "data": {
      "text/html": [
       "<div>\n",
       "<style scoped>\n",
       "    .dataframe tbody tr th:only-of-type {\n",
       "        vertical-align: middle;\n",
       "    }\n",
       "\n",
       "    .dataframe tbody tr th {\n",
       "        vertical-align: top;\n",
       "    }\n",
       "\n",
       "    .dataframe thead th {\n",
       "        text-align: right;\n",
       "    }\n",
       "</style>\n",
       "<table border=\"1\" class=\"dataframe\">\n",
       "  <thead>\n",
       "    <tr style=\"text-align: right;\">\n",
       "      <th></th>\n",
       "      <th>CRIM</th>\n",
       "      <th>ZN</th>\n",
       "      <th>INDUS</th>\n",
       "      <th>CHAS</th>\n",
       "      <th>NOX</th>\n",
       "      <th>RM</th>\n",
       "      <th>AGE</th>\n",
       "      <th>DIS</th>\n",
       "      <th>RAD</th>\n",
       "      <th>TAX</th>\n",
       "      <th>PTRATIO</th>\n",
       "      <th>BK</th>\n",
       "      <th>LSTAT</th>\n",
       "      <th>MEDV</th>\n",
       "    </tr>\n",
       "  </thead>\n",
       "  <tbody>\n",
       "    <tr>\n",
       "      <th>0</th>\n",
       "      <td>0.00632</td>\n",
       "      <td>18.0</td>\n",
       "      <td>2.31</td>\n",
       "      <td>0</td>\n",
       "      <td>0.538</td>\n",
       "      <td>6.575</td>\n",
       "      <td>65.2</td>\n",
       "      <td>4.0900</td>\n",
       "      <td>1</td>\n",
       "      <td>296</td>\n",
       "      <td>15.3</td>\n",
       "      <td>396.90</td>\n",
       "      <td>4.98</td>\n",
       "      <td>24.0</td>\n",
       "    </tr>\n",
       "    <tr>\n",
       "      <th>1</th>\n",
       "      <td>0.02731</td>\n",
       "      <td>0.0</td>\n",
       "      <td>7.07</td>\n",
       "      <td>0</td>\n",
       "      <td>0.469</td>\n",
       "      <td>6.421</td>\n",
       "      <td>78.9</td>\n",
       "      <td>4.9671</td>\n",
       "      <td>2</td>\n",
       "      <td>242</td>\n",
       "      <td>17.8</td>\n",
       "      <td>396.90</td>\n",
       "      <td>9.14</td>\n",
       "      <td>21.6</td>\n",
       "    </tr>\n",
       "    <tr>\n",
       "      <th>2</th>\n",
       "      <td>0.02729</td>\n",
       "      <td>0.0</td>\n",
       "      <td>7.07</td>\n",
       "      <td>0</td>\n",
       "      <td>0.469</td>\n",
       "      <td>7.185</td>\n",
       "      <td>61.1</td>\n",
       "      <td>4.9671</td>\n",
       "      <td>2</td>\n",
       "      <td>242</td>\n",
       "      <td>17.8</td>\n",
       "      <td>392.83</td>\n",
       "      <td>4.03</td>\n",
       "      <td>34.7</td>\n",
       "    </tr>\n",
       "    <tr>\n",
       "      <th>3</th>\n",
       "      <td>0.03237</td>\n",
       "      <td>0.0</td>\n",
       "      <td>2.18</td>\n",
       "      <td>0</td>\n",
       "      <td>0.458</td>\n",
       "      <td>6.998</td>\n",
       "      <td>45.8</td>\n",
       "      <td>6.0622</td>\n",
       "      <td>3</td>\n",
       "      <td>222</td>\n",
       "      <td>18.7</td>\n",
       "      <td>394.63</td>\n",
       "      <td>2.94</td>\n",
       "      <td>33.4</td>\n",
       "    </tr>\n",
       "    <tr>\n",
       "      <th>4</th>\n",
       "      <td>0.06905</td>\n",
       "      <td>0.0</td>\n",
       "      <td>2.18</td>\n",
       "      <td>0</td>\n",
       "      <td>0.458</td>\n",
       "      <td>7.147</td>\n",
       "      <td>54.2</td>\n",
       "      <td>6.0622</td>\n",
       "      <td>3</td>\n",
       "      <td>222</td>\n",
       "      <td>18.7</td>\n",
       "      <td>396.90</td>\n",
       "      <td>5.33</td>\n",
       "      <td>36.2</td>\n",
       "    </tr>\n",
       "  </tbody>\n",
       "</table>\n",
       "</div>"
      ],
      "text/plain": [
       "      CRIM    ZN  INDUS  CHAS    NOX  ...  TAX  PTRATIO      BK  LSTAT  MEDV\n",
       "0  0.00632  18.0   2.31     0  0.538  ...  296     15.3  396.90   4.98  24.0\n",
       "1  0.02731   0.0   7.07     0  0.469  ...  242     17.8  396.90   9.14  21.6\n",
       "2  0.02729   0.0   7.07     0  0.469  ...  242     17.8  392.83   4.03  34.7\n",
       "3  0.03237   0.0   2.18     0  0.458  ...  222     18.7  394.63   2.94  33.4\n",
       "4  0.06905   0.0   2.18     0  0.458  ...  222     18.7  396.90   5.33  36.2\n",
       "\n",
       "[5 rows x 14 columns]"
      ]
     },
     "execution_count": 51,
     "metadata": {
      "tags": []
     },
     "output_type": "execute_result"
    }
   ],
   "source": [
    "mydata.head()"
   ]
  },
  {
   "cell_type": "code",
   "execution_count": 52,
   "metadata": {
    "colab": {
     "base_uri": "https://localhost:8080/",
     "height": 34
    },
    "colab_type": "code",
    "id": "7u580sEOpM-Q",
    "outputId": "ad7aed26-6fea-45b5-ff9d-535dc2fedd8e"
   },
   "outputs": [
    {
     "data": {
      "text/plain": [
       "(506, 14)"
      ]
     },
     "execution_count": 52,
     "metadata": {
      "tags": []
     },
     "output_type": "execute_result"
    }
   ],
   "source": [
    "# Examinemos el tamaño del DataSet para corroborar que tenemos 506 Datos\n",
    "# Además contamos con 14 columnas:\n",
    "# 13 que corresponden a variables independientes y 1 variable dependiente.\n",
    "\n",
    "mydata.shape"
   ]
  },
  {
   "cell_type": "markdown",
   "metadata": {
    "colab_type": "text",
    "id": "CLPmK8IMS5gL"
   },
   "source": [
    "## a.  Obtener el modelo de Regresión Lineal Múltiple (RLM) del modelo y con base a dicho modelo contestar los siguientes incisos:"
   ]
  },
  {
   "cell_type": "code",
   "execution_count": 54,
   "metadata": {
    "colab": {},
    "colab_type": "code",
    "id": "nzIPHfSGrFil"
   },
   "outputs": [],
   "source": [
    "# Dataset con el que vamos a trabajar\n",
    "dataset = pd.DataFrame(mydata[[\"CRIM\",\"ZN\",\"INDUS\",\"CHAS\",\"NOX\",\"RM\",\"AGE\",\"DIS\",\"RAD\",\"TAX\",\"PTRATIO\",\"BK\",\"LSTAT\",\"MEDV\"]])\n",
    "# Variables Independientes\n",
    "x = dataset[[\"CRIM\",\"ZN\",\"INDUS\",\"CHAS\",\"NOX\",\"RM\",\"AGE\",\"DIS\",\"RAD\",\"TAX\",\"PTRATIO\",\"BK\",\"LSTAT\"]]\n",
    "# Variable Dependiente\n",
    "y = dataset[[\"MEDV\"]]"
   ]
  },
  {
   "cell_type": "code",
   "execution_count": 55,
   "metadata": {
    "colab": {
     "base_uri": "https://localhost:8080/",
     "height": 260
    },
    "colab_type": "code",
    "id": "cDj_0d5hrSvJ",
    "outputId": "549ce919-2961-44d3-c6d7-4e0d4c977e2a"
   },
   "outputs": [
    {
     "name": "stdout",
     "output_type": "stream",
     "text": [
      "     const     CRIM    ZN  INDUS  CHAS  ...  RAD  TAX  PTRATIO      BK  LSTAT\n",
      "0      1.0  0.00632  18.0   2.31     0  ...    1  296     15.3  396.90   4.98\n",
      "1      1.0  0.02731   0.0   7.07     0  ...    2  242     17.8  396.90   9.14\n",
      "2      1.0  0.02729   0.0   7.07     0  ...    2  242     17.8  392.83   4.03\n",
      "3      1.0  0.03237   0.0   2.18     0  ...    3  222     18.7  394.63   2.94\n",
      "4      1.0  0.06905   0.0   2.18     0  ...    3  222     18.7  396.90   5.33\n",
      "..     ...      ...   ...    ...   ...  ...  ...  ...      ...     ...    ...\n",
      "501    1.0  0.06263   0.0  11.93     0  ...    1  273     21.0  391.99   9.67\n",
      "502    1.0  0.04527   0.0  11.93     0  ...    1  273     21.0  396.90   9.08\n",
      "503    1.0  0.06076   0.0  11.93     0  ...    1  273     21.0  396.90   5.64\n",
      "504    1.0  0.10959   0.0  11.93     0  ...    1  273     21.0  393.45   6.48\n",
      "505    1.0  0.04741   0.0  11.93     0  ...    1  273     21.0  396.90   7.88\n",
      "\n",
      "[506 rows x 14 columns]\n"
     ]
    }
   ],
   "source": [
    "# Agregamos 1's a la primer columna como cosntante\n",
    "xones = sm.add_constant(x)\n",
    "print(xones)"
   ]
  },
  {
   "cell_type": "markdown",
   "metadata": {
    "colab_type": "text",
    "id": "Qqsfai5us5df"
   },
   "source": [
    "### **Primer Modelo de Regresión Lineal Múltile (RLM)**"
   ]
  },
  {
   "cell_type": "code",
   "execution_count": 57,
   "metadata": {
    "colab": {
     "base_uri": "https://localhost:8080/",
     "height": 694
    },
    "colab_type": "code",
    "id": "kJMAQWQZsPGm",
    "outputId": "5a8f4985-7ac7-41ab-8219-1f2f9cba4782"
   },
   "outputs": [
    {
     "name": "stdout",
     "output_type": "stream",
     "text": [
      "                            OLS Regression Results                            \n",
      "==============================================================================\n",
      "Dep. Variable:                   MEDV   R-squared:                       0.741\n",
      "Model:                            OLS   Adj. R-squared:                  0.734\n",
      "Method:                 Least Squares   F-statistic:                     108.1\n",
      "Date:                Mon, 31 Aug 2020   Prob (F-statistic):          6.72e-135\n",
      "Time:                        04:07:30   Log-Likelihood:                -1498.8\n",
      "No. Observations:                 506   AIC:                             3026.\n",
      "Df Residuals:                     492   BIC:                             3085.\n",
      "Df Model:                          13                                         \n",
      "Covariance Type:            nonrobust                                         \n",
      "==============================================================================\n",
      "                 coef    std err          t      P>|t|      [0.025      0.975]\n",
      "------------------------------------------------------------------------------\n",
      "const         36.4595      5.103      7.144      0.000      26.432      46.487\n",
      "CRIM          -0.1080      0.033     -3.287      0.001      -0.173      -0.043\n",
      "ZN             0.0464      0.014      3.382      0.001       0.019       0.073\n",
      "INDUS          0.0206      0.061      0.334      0.738      -0.100       0.141\n",
      "CHAS           2.6867      0.862      3.118      0.002       0.994       4.380\n",
      "NOX          -17.7666      3.820     -4.651      0.000     -25.272     -10.262\n",
      "RM             3.8099      0.418      9.116      0.000       2.989       4.631\n",
      "AGE            0.0007      0.013      0.052      0.958      -0.025       0.027\n",
      "DIS           -1.4756      0.199     -7.398      0.000      -1.867      -1.084\n",
      "RAD            0.3060      0.066      4.613      0.000       0.176       0.436\n",
      "TAX           -0.0123      0.004     -3.280      0.001      -0.020      -0.005\n",
      "PTRATIO       -0.9527      0.131     -7.283      0.000      -1.210      -0.696\n",
      "BK             0.0093      0.003      3.467      0.001       0.004       0.015\n",
      "LSTAT         -0.5248      0.051    -10.347      0.000      -0.624      -0.425\n",
      "==============================================================================\n",
      "Omnibus:                      178.041   Durbin-Watson:                   1.078\n",
      "Prob(Omnibus):                  0.000   Jarque-Bera (JB):              783.126\n",
      "Skew:                           1.521   Prob(JB):                    8.84e-171\n",
      "Kurtosis:                       8.281   Cond. No.                     1.51e+04\n",
      "==============================================================================\n",
      "\n",
      "Warnings:\n",
      "[1] Standard Errors assume that the covariance matrix of the errors is correctly specified.\n",
      "[2] The condition number is large, 1.51e+04. This might indicate that there are\n",
      "strong multicollinearity or other numerical problems.\n"
     ]
    }
   ],
   "source": [
    "mymodel = sm.OLS(y, xones).fit()\n",
    "print(mymodel.summary())"
   ]
  },
  {
   "cell_type": "markdown",
   "metadata": {
    "colab_type": "text",
    "id": "wlXvUvbERI-7"
   },
   "source": [
    "### i.   Interpretar el valor del coeficiente de determinación ajustado 𝑅²"
   ]
  },
  {
   "cell_type": "markdown",
   "metadata": {
    "colab_type": "text",
    "id": "RFsGbkvXtH7m"
   },
   "source": [
    "El coeficiente de determinación ajustado para nuestro modelo fue de 0.734, recordemos que este mide el porcentaje de variación de la variable dependiente teniendo en cuenta las variable independientes, es decir la variación es del 73.4% "
   ]
  },
  {
   "cell_type": "markdown",
   "metadata": {
    "colab_type": "text",
    "id": "LSDFgOboQ-y7"
   },
   "source": [
    "### ii. Determina qué variables no resultaron significativas considerendo un 𝑣𝑎𝑙𝑜𝑟-𝑝=0.01 "
   ]
  },
  {
   "cell_type": "markdown",
   "metadata": {
    "colab_type": "text",
    "id": "mxFDjy29zymT"
   },
   "source": [
    "Por observación en la tabla de nuestro modelo podemos concluir que las variables que no resultaron significativas, o con un *p-value* superior a 0.01 son **INDUS** con un *p-value* de 0.738 y **AGE** con un *p-value* de 0.958"
   ]
  },
  {
   "cell_type": "markdown",
   "metadata": {
    "colab_type": "text",
    "id": "6bv3bmV_poi5"
   },
   "source": [
    "### iii. Obtener un segundo modelo de RLM omitiendo las variables que no resultaron significativas en el inciso anterior. Comparar su coeficiente de determinación ajustado con base con respecto al primer modelo."
   ]
  },
  {
   "cell_type": "markdown",
   "metadata": {
    "colab_type": "text",
    "id": "2lVbeE_h12nL"
   },
   "source": [
    "Para obtener un segundo modelo RLM, repetiremos los pasos del primer punto, pero esta vez removeremos las variables **INDUS** y **AGE**, las cuales resultaron NO significativas para nuestro modelo."
   ]
  },
  {
   "cell_type": "code",
   "execution_count": 58,
   "metadata": {
    "colab": {},
    "colab_type": "code",
    "id": "NtQUwLNjptlh"
   },
   "outputs": [],
   "source": [
    "# Repetimos los pasos de nuestro modelo anterior\n",
    "# Definimos el DF para el dataset con el que vamos a trabajar\n",
    "dataset = pd.DataFrame(mydata[[\"CRIM\",\"ZN\",\"INDUS\",\"CHAS\",\"NOX\",\"RM\",\"AGE\",\"DIS\",\"RAD\",\"TAX\",\"PTRATIO\",\"BK\",\"LSTAT\",\"MEDV\"]])\n",
    "# De nuestras variable independeintes removemos las variable INDUS y AGE que resultaron NO significativas para nuestro modelo\n",
    "x = dataset[[\"CRIM\",\"ZN\",\"CHAS\",\"NOX\",\"RM\",\"DIS\",\"RAD\",\"TAX\",\"PTRATIO\",\"BK\",\"LSTAT\"]]\n",
    "# Definimos variable dependiente\n",
    "y = dataset[[\"MEDV\"]]"
   ]
  },
  {
   "cell_type": "markdown",
   "metadata": {
    "colab_type": "text",
    "id": "ZHKX5WIA3Eof"
   },
   "source": [
    "#### **Segundo Modelo RLM**"
   ]
  },
  {
   "cell_type": "code",
   "execution_count": 59,
   "metadata": {
    "colab": {
     "base_uri": "https://localhost:8080/",
     "height": 660
    },
    "colab_type": "code",
    "id": "lfm-HSQk2H-R",
    "outputId": "0a852e3a-eaba-49e8-8897-b08ddac60862"
   },
   "outputs": [
    {
     "name": "stdout",
     "output_type": "stream",
     "text": [
      "                            OLS Regression Results                            \n",
      "==============================================================================\n",
      "Dep. Variable:                   MEDV   R-squared:                       0.741\n",
      "Model:                            OLS   Adj. R-squared:                  0.735\n",
      "Method:                 Least Squares   F-statistic:                     128.2\n",
      "Date:                Mon, 31 Aug 2020   Prob (F-statistic):          5.54e-137\n",
      "Time:                        04:49:22   Log-Likelihood:                -1498.9\n",
      "No. Observations:                 506   AIC:                             3022.\n",
      "Df Residuals:                     494   BIC:                             3072.\n",
      "Df Model:                          11                                         \n",
      "Covariance Type:            nonrobust                                         \n",
      "==============================================================================\n",
      "                 coef    std err          t      P>|t|      [0.025      0.975]\n",
      "------------------------------------------------------------------------------\n",
      "const         36.3411      5.067      7.171      0.000      26.385      46.298\n",
      "CRIM          -0.1084      0.033     -3.307      0.001      -0.173      -0.044\n",
      "ZN             0.0458      0.014      3.390      0.001       0.019       0.072\n",
      "CHAS           2.7187      0.854      3.183      0.002       1.040       4.397\n",
      "NOX          -17.3760      3.535     -4.915      0.000     -24.322     -10.430\n",
      "RM             3.8016      0.406      9.356      0.000       3.003       4.600\n",
      "DIS           -1.4927      0.186     -8.037      0.000      -1.858      -1.128\n",
      "RAD            0.2996      0.063      4.726      0.000       0.175       0.424\n",
      "TAX           -0.0118      0.003     -3.493      0.001      -0.018      -0.005\n",
      "PTRATIO       -0.9465      0.129     -7.334      0.000      -1.200      -0.693\n",
      "BK             0.0093      0.003      3.475      0.001       0.004       0.015\n",
      "LSTAT         -0.5226      0.047    -11.019      0.000      -0.616      -0.429\n",
      "==============================================================================\n",
      "Omnibus:                      178.430   Durbin-Watson:                   1.078\n",
      "Prob(Omnibus):                  0.000   Jarque-Bera (JB):              787.785\n",
      "Skew:                           1.523   Prob(JB):                    8.60e-172\n",
      "Kurtosis:                       8.300   Cond. No.                     1.47e+04\n",
      "==============================================================================\n",
      "\n",
      "Warnings:\n",
      "[1] Standard Errors assume that the covariance matrix of the errors is correctly specified.\n",
      "[2] The condition number is large, 1.47e+04. This might indicate that there are\n",
      "strong multicollinearity or other numerical problems.\n"
     ]
    }
   ],
   "source": [
    "# Agregamos 1's a la primer columna como cosntante\n",
    "xones = sm.add_constant(x)\n",
    "# Entrenamos nuestro modelo\n",
    "mymodel = sm.OLS(y, xones).fit()\n",
    "# Imprimimos los resultados\n",
    "print(mymodel.summary())"
   ]
  },
  {
   "cell_type": "markdown",
   "metadata": {
    "colab_type": "text",
    "id": "uBMzAeIG3M45"
   },
   "source": [
    "#### **Comparar coeficiente de determinación ajustado con respecto al primer modelo**\n",
    "\n",
    "* Coeficiente 𝑅² Ajustado primer modelo = 73.4%\n",
    "* Coeficiente 𝑅² Ajustado segundo modelo = 73.5%\n",
    "\n",
    "Esto significa que tuvimos una mejora de 0.001 al elininar dos variables, esto parece algo pequeño pero ahora podemos trabajar con un modelo de 11 variable y no de 13 como originalmente se había planteado.\n"
   ]
  },
  {
   "cell_type": "markdown",
   "metadata": {
    "colab_type": "text",
    "id": "ikvyO6Z841il"
   },
   "source": [
    "### iv. Obtener la matriz de correlación de Pearson de las 14 variables. Con base a dicha matriz identifica ***los pares de variables independientes*** que tengan un coeficiente de correlación mayor o igual a 0.7 en valor absoluto. Obtener un tercer modelo de RLM y compara la significacia de los coeficientes y su coeficiente de determinación ajustado con respecto a los dos primeros modelos."
   ]
  },
  {
   "cell_type": "code",
   "execution_count": 60,
   "metadata": {
    "colab": {
     "base_uri": "https://localhost:8080/",
     "height": 489
    },
    "colab_type": "code",
    "id": "Qe-kRFrk4006",
    "outputId": "0aedd5ad-a06f-4acf-fed7-afb11dd11dec"
   },
   "outputs": [
    {
     "data": {
      "text/html": [
       "<div>\n",
       "<style scoped>\n",
       "    .dataframe tbody tr th:only-of-type {\n",
       "        vertical-align: middle;\n",
       "    }\n",
       "\n",
       "    .dataframe tbody tr th {\n",
       "        vertical-align: top;\n",
       "    }\n",
       "\n",
       "    .dataframe thead th {\n",
       "        text-align: right;\n",
       "    }\n",
       "</style>\n",
       "<table border=\"1\" class=\"dataframe\">\n",
       "  <thead>\n",
       "    <tr style=\"text-align: right;\">\n",
       "      <th></th>\n",
       "      <th>CRIM</th>\n",
       "      <th>ZN</th>\n",
       "      <th>INDUS</th>\n",
       "      <th>CHAS</th>\n",
       "      <th>NOX</th>\n",
       "      <th>RM</th>\n",
       "      <th>AGE</th>\n",
       "      <th>DIS</th>\n",
       "      <th>RAD</th>\n",
       "      <th>TAX</th>\n",
       "      <th>PTRATIO</th>\n",
       "      <th>BK</th>\n",
       "      <th>LSTAT</th>\n",
       "      <th>MEDV</th>\n",
       "    </tr>\n",
       "  </thead>\n",
       "  <tbody>\n",
       "    <tr>\n",
       "      <th>CRIM</th>\n",
       "      <td>1.000000</td>\n",
       "      <td>-0.200469</td>\n",
       "      <td>0.406583</td>\n",
       "      <td>-0.055892</td>\n",
       "      <td>0.420972</td>\n",
       "      <td>-0.219247</td>\n",
       "      <td>0.352734</td>\n",
       "      <td>-0.379670</td>\n",
       "      <td>0.625505</td>\n",
       "      <td>0.582764</td>\n",
       "      <td>0.289946</td>\n",
       "      <td>-0.385064</td>\n",
       "      <td>0.455621</td>\n",
       "      <td>-0.388305</td>\n",
       "    </tr>\n",
       "    <tr>\n",
       "      <th>ZN</th>\n",
       "      <td>-0.200469</td>\n",
       "      <td>1.000000</td>\n",
       "      <td>-0.533828</td>\n",
       "      <td>-0.042697</td>\n",
       "      <td>-0.516604</td>\n",
       "      <td>0.311991</td>\n",
       "      <td>-0.569537</td>\n",
       "      <td>0.664408</td>\n",
       "      <td>-0.311948</td>\n",
       "      <td>-0.314563</td>\n",
       "      <td>-0.391679</td>\n",
       "      <td>0.175520</td>\n",
       "      <td>-0.412995</td>\n",
       "      <td>0.360445</td>\n",
       "    </tr>\n",
       "    <tr>\n",
       "      <th>INDUS</th>\n",
       "      <td>0.406583</td>\n",
       "      <td>-0.533828</td>\n",
       "      <td>1.000000</td>\n",
       "      <td>0.062938</td>\n",
       "      <td>0.763651</td>\n",
       "      <td>-0.391676</td>\n",
       "      <td>0.644779</td>\n",
       "      <td>-0.708027</td>\n",
       "      <td>0.595129</td>\n",
       "      <td>0.720760</td>\n",
       "      <td>0.383248</td>\n",
       "      <td>-0.356977</td>\n",
       "      <td>0.603800</td>\n",
       "      <td>-0.483725</td>\n",
       "    </tr>\n",
       "    <tr>\n",
       "      <th>CHAS</th>\n",
       "      <td>-0.055892</td>\n",
       "      <td>-0.042697</td>\n",
       "      <td>0.062938</td>\n",
       "      <td>1.000000</td>\n",
       "      <td>0.091203</td>\n",
       "      <td>0.091251</td>\n",
       "      <td>0.086518</td>\n",
       "      <td>-0.099176</td>\n",
       "      <td>-0.007368</td>\n",
       "      <td>-0.035587</td>\n",
       "      <td>-0.121515</td>\n",
       "      <td>0.048788</td>\n",
       "      <td>-0.053929</td>\n",
       "      <td>0.175260</td>\n",
       "    </tr>\n",
       "    <tr>\n",
       "      <th>NOX</th>\n",
       "      <td>0.420972</td>\n",
       "      <td>-0.516604</td>\n",
       "      <td>0.763651</td>\n",
       "      <td>0.091203</td>\n",
       "      <td>1.000000</td>\n",
       "      <td>-0.302188</td>\n",
       "      <td>0.731470</td>\n",
       "      <td>-0.769230</td>\n",
       "      <td>0.611441</td>\n",
       "      <td>0.668023</td>\n",
       "      <td>0.188933</td>\n",
       "      <td>-0.380051</td>\n",
       "      <td>0.590879</td>\n",
       "      <td>-0.427321</td>\n",
       "    </tr>\n",
       "    <tr>\n",
       "      <th>RM</th>\n",
       "      <td>-0.219247</td>\n",
       "      <td>0.311991</td>\n",
       "      <td>-0.391676</td>\n",
       "      <td>0.091251</td>\n",
       "      <td>-0.302188</td>\n",
       "      <td>1.000000</td>\n",
       "      <td>-0.240265</td>\n",
       "      <td>0.205246</td>\n",
       "      <td>-0.209847</td>\n",
       "      <td>-0.292048</td>\n",
       "      <td>-0.355501</td>\n",
       "      <td>0.128069</td>\n",
       "      <td>-0.613808</td>\n",
       "      <td>0.695360</td>\n",
       "    </tr>\n",
       "    <tr>\n",
       "      <th>AGE</th>\n",
       "      <td>0.352734</td>\n",
       "      <td>-0.569537</td>\n",
       "      <td>0.644779</td>\n",
       "      <td>0.086518</td>\n",
       "      <td>0.731470</td>\n",
       "      <td>-0.240265</td>\n",
       "      <td>1.000000</td>\n",
       "      <td>-0.747881</td>\n",
       "      <td>0.456022</td>\n",
       "      <td>0.506456</td>\n",
       "      <td>0.261515</td>\n",
       "      <td>-0.273534</td>\n",
       "      <td>0.602339</td>\n",
       "      <td>-0.376955</td>\n",
       "    </tr>\n",
       "    <tr>\n",
       "      <th>DIS</th>\n",
       "      <td>-0.379670</td>\n",
       "      <td>0.664408</td>\n",
       "      <td>-0.708027</td>\n",
       "      <td>-0.099176</td>\n",
       "      <td>-0.769230</td>\n",
       "      <td>0.205246</td>\n",
       "      <td>-0.747881</td>\n",
       "      <td>1.000000</td>\n",
       "      <td>-0.494588</td>\n",
       "      <td>-0.534432</td>\n",
       "      <td>-0.232471</td>\n",
       "      <td>0.291512</td>\n",
       "      <td>-0.496996</td>\n",
       "      <td>0.249929</td>\n",
       "    </tr>\n",
       "    <tr>\n",
       "      <th>RAD</th>\n",
       "      <td>0.625505</td>\n",
       "      <td>-0.311948</td>\n",
       "      <td>0.595129</td>\n",
       "      <td>-0.007368</td>\n",
       "      <td>0.611441</td>\n",
       "      <td>-0.209847</td>\n",
       "      <td>0.456022</td>\n",
       "      <td>-0.494588</td>\n",
       "      <td>1.000000</td>\n",
       "      <td>0.910228</td>\n",
       "      <td>0.464741</td>\n",
       "      <td>-0.444413</td>\n",
       "      <td>0.488676</td>\n",
       "      <td>-0.381626</td>\n",
       "    </tr>\n",
       "    <tr>\n",
       "      <th>TAX</th>\n",
       "      <td>0.582764</td>\n",
       "      <td>-0.314563</td>\n",
       "      <td>0.720760</td>\n",
       "      <td>-0.035587</td>\n",
       "      <td>0.668023</td>\n",
       "      <td>-0.292048</td>\n",
       "      <td>0.506456</td>\n",
       "      <td>-0.534432</td>\n",
       "      <td>0.910228</td>\n",
       "      <td>1.000000</td>\n",
       "      <td>0.460853</td>\n",
       "      <td>-0.441808</td>\n",
       "      <td>0.543993</td>\n",
       "      <td>-0.468536</td>\n",
       "    </tr>\n",
       "    <tr>\n",
       "      <th>PTRATIO</th>\n",
       "      <td>0.289946</td>\n",
       "      <td>-0.391679</td>\n",
       "      <td>0.383248</td>\n",
       "      <td>-0.121515</td>\n",
       "      <td>0.188933</td>\n",
       "      <td>-0.355501</td>\n",
       "      <td>0.261515</td>\n",
       "      <td>-0.232471</td>\n",
       "      <td>0.464741</td>\n",
       "      <td>0.460853</td>\n",
       "      <td>1.000000</td>\n",
       "      <td>-0.177383</td>\n",
       "      <td>0.374044</td>\n",
       "      <td>-0.507787</td>\n",
       "    </tr>\n",
       "    <tr>\n",
       "      <th>BK</th>\n",
       "      <td>-0.385064</td>\n",
       "      <td>0.175520</td>\n",
       "      <td>-0.356977</td>\n",
       "      <td>0.048788</td>\n",
       "      <td>-0.380051</td>\n",
       "      <td>0.128069</td>\n",
       "      <td>-0.273534</td>\n",
       "      <td>0.291512</td>\n",
       "      <td>-0.444413</td>\n",
       "      <td>-0.441808</td>\n",
       "      <td>-0.177383</td>\n",
       "      <td>1.000000</td>\n",
       "      <td>-0.366087</td>\n",
       "      <td>0.333461</td>\n",
       "    </tr>\n",
       "    <tr>\n",
       "      <th>LSTAT</th>\n",
       "      <td>0.455621</td>\n",
       "      <td>-0.412995</td>\n",
       "      <td>0.603800</td>\n",
       "      <td>-0.053929</td>\n",
       "      <td>0.590879</td>\n",
       "      <td>-0.613808</td>\n",
       "      <td>0.602339</td>\n",
       "      <td>-0.496996</td>\n",
       "      <td>0.488676</td>\n",
       "      <td>0.543993</td>\n",
       "      <td>0.374044</td>\n",
       "      <td>-0.366087</td>\n",
       "      <td>1.000000</td>\n",
       "      <td>-0.737663</td>\n",
       "    </tr>\n",
       "    <tr>\n",
       "      <th>MEDV</th>\n",
       "      <td>-0.388305</td>\n",
       "      <td>0.360445</td>\n",
       "      <td>-0.483725</td>\n",
       "      <td>0.175260</td>\n",
       "      <td>-0.427321</td>\n",
       "      <td>0.695360</td>\n",
       "      <td>-0.376955</td>\n",
       "      <td>0.249929</td>\n",
       "      <td>-0.381626</td>\n",
       "      <td>-0.468536</td>\n",
       "      <td>-0.507787</td>\n",
       "      <td>0.333461</td>\n",
       "      <td>-0.737663</td>\n",
       "      <td>1.000000</td>\n",
       "    </tr>\n",
       "  </tbody>\n",
       "</table>\n",
       "</div>"
      ],
      "text/plain": [
       "             CRIM        ZN     INDUS  ...        BK     LSTAT      MEDV\n",
       "CRIM     1.000000 -0.200469  0.406583  ... -0.385064  0.455621 -0.388305\n",
       "ZN      -0.200469  1.000000 -0.533828  ...  0.175520 -0.412995  0.360445\n",
       "INDUS    0.406583 -0.533828  1.000000  ... -0.356977  0.603800 -0.483725\n",
       "CHAS    -0.055892 -0.042697  0.062938  ...  0.048788 -0.053929  0.175260\n",
       "NOX      0.420972 -0.516604  0.763651  ... -0.380051  0.590879 -0.427321\n",
       "RM      -0.219247  0.311991 -0.391676  ...  0.128069 -0.613808  0.695360\n",
       "AGE      0.352734 -0.569537  0.644779  ... -0.273534  0.602339 -0.376955\n",
       "DIS     -0.379670  0.664408 -0.708027  ...  0.291512 -0.496996  0.249929\n",
       "RAD      0.625505 -0.311948  0.595129  ... -0.444413  0.488676 -0.381626\n",
       "TAX      0.582764 -0.314563  0.720760  ... -0.441808  0.543993 -0.468536\n",
       "PTRATIO  0.289946 -0.391679  0.383248  ... -0.177383  0.374044 -0.507787\n",
       "BK      -0.385064  0.175520 -0.356977  ...  1.000000 -0.366087  0.333461\n",
       "LSTAT    0.455621 -0.412995  0.603800  ... -0.366087  1.000000 -0.737663\n",
       "MEDV    -0.388305  0.360445 -0.483725  ...  0.333461 -0.737663  1.000000\n",
       "\n",
       "[14 rows x 14 columns]"
      ]
     },
     "execution_count": 60,
     "metadata": {
      "tags": []
     },
     "output_type": "execute_result"
    }
   ],
   "source": [
    "# Dataset con el que vamos a trabajar\n",
    "dataset = pd.DataFrame(mydata[[\"CRIM\",\"ZN\",\"INDUS\",\"CHAS\",\"NOX\",\"RM\",\"AGE\",\"DIS\",\"RAD\",\"TAX\",\"PTRATIO\",\"BK\",\"LSTAT\",\"MEDV\"]])\n",
    "# Correlación de Pearson\n",
    "dataset.corr(method='pearson')"
   ]
  },
  {
   "cell_type": "markdown",
   "metadata": {
    "colab_type": "text",
    "id": "62A4M9O6ELP4"
   },
   "source": [
    "#### **Matriz de Correlación Pearson**\n",
    "\n",
    "Una forma de ver la relación de las variable usando matplot y mapas de calor, lo que nos permite rápidamente identificar aquellas variables que tienen mayor relación entre sí. De igual manera podemos observar cláramente la diagonal, donde la relacón es 1 dado que comparamos la relación de cada variable consigo misma."
   ]
  },
  {
   "cell_type": "code",
   "execution_count": 119,
   "metadata": {
    "colab": {
     "base_uri": "https://localhost:8080/",
     "height": 755
    },
    "colab_type": "code",
    "id": "kpqvNUSCCZdb",
    "outputId": "d90abc33-35f6-492e-f950-1f310fdf418e"
   },
   "outputs": [
    {
     "data": {
      "image/png": "[encoded data removed]",
      "text/plain": [
       "<Figure size 1152x864 with 2 Axes>"
      ]
     },
     "metadata": {
      "needs_background": "light",
      "tags": []
     },
     "output_type": "display_data"
    }
   ],
   "source": [
    "import matplotlib.pyplot as plt\n",
    "\n",
    "# Gráfica sencilla\n",
    "#plt.matshow(dataset.corr(method='pearson'))\n",
    "#plt.show()\n",
    "\n",
    "df = dataset\n",
    "f = plt.figure(figsize=(16, 12))\n",
    "plt.matshow(df.corr(method='pearson'), fignum=f.number)\n",
    "plt.xticks(range(df.shape[1]), df.columns, fontsize=12, rotation=45)\n",
    "plt.yticks(range(df.shape[1]), df.columns, fontsize=12)\n",
    "cb = plt.colorbar()\n",
    "cb.ax.tick_params(labelsize=14)\n",
    "plt.title('Matríz de Correlación', fontsize=16);"
   ]
  },
  {
   "cell_type": "markdown",
   "metadata": {
    "colab_type": "text",
    "id": "jqHyVs_yGxyC"
   },
   "source": [
    "#### **Variables independientes con un coeficiente de correlación mayor o igual a 0.7 en valor absoluto.**"
   ]
  },
  {
   "cell_type": "code",
   "execution_count": 99,
   "metadata": {
    "colab": {
     "base_uri": "https://localhost:8080/",
     "height": 312
    },
    "colab_type": "code",
    "id": "zFgVz5FYFKfi",
    "outputId": "88348d71-c663-4b06-f630-0e99e270ab06"
   },
   "outputs": [
    {
     "name": "stdout",
     "output_type": "stream",
     "text": [
      "INDUS  NOX      0.763651\n",
      "       DIS      0.708027\n",
      "       TAX      0.720760\n",
      "NOX    INDUS    0.763651\n",
      "       AGE      0.731470\n",
      "       DIS      0.769230\n",
      "AGE    NOX      0.731470\n",
      "       DIS      0.747881\n",
      "DIS    INDUS    0.708027\n",
      "       NOX      0.769230\n",
      "       AGE      0.747881\n",
      "RAD    TAX      0.910228\n",
      "TAX    INDUS    0.720760\n",
      "       RAD      0.910228\n",
      "LSTAT  MEDV     0.737663\n",
      "MEDV   LSTAT    0.737663\n",
      "dtype: float64\n"
     ]
    }
   ],
   "source": [
    "# Obtenemos valor absoluto de las variables\n",
    "correl_matrix = dataset.corr(method='pearson').abs()\n",
    "correl_pairs = correl_matrix.unstack()\n",
    "# Eliminamos los pares de variables que tienen relación consigo mismas (diagonal)\n",
    "independent_pairs = correl_pairs[correl_pairs < 1]\n",
    "# Identificamos aquellos pares de variable cuya correlación es mayor o igual a 0.7\n",
    "independent_pairs = independent_pairs[correl_pairs >= 0.7]\n",
    "print(independent_pairs)"
   ]
  },
  {
   "cell_type": "markdown",
   "metadata": {
    "colab_type": "text",
    "id": "NoDiKuIVOe5-"
   },
   "source": [
    "Las variables significativas para nuestro modelo son:\n",
    "* INDUS\n",
    "* NOX\n",
    "* AGE\n",
    "* DIS\n",
    "* RAD\n",
    "* TAX\n",
    "* LSTAT"
   ]
  },
  {
   "cell_type": "markdown",
   "metadata": {
    "colab_type": "text",
    "id": "fdjdnb7oG9pW"
   },
   "source": [
    "#### **Tercer modelo de RLM**"
   ]
  },
  {
   "cell_type": "code",
   "execution_count": 93,
   "metadata": {
    "colab": {},
    "colab_type": "code",
    "id": "3Kv8LXp9G9W6"
   },
   "outputs": [],
   "source": [
    "# Repetimos los pasos de nuestro primer modelo\n",
    "# Definimos el DF para el dataset con el que vamos a trabajar\n",
    "dataset = pd.DataFrame(mydata[[\"CRIM\",\"ZN\",\"INDUS\",\"CHAS\",\"NOX\",\"RM\",\"AGE\",\"DIS\",\"RAD\",\"TAX\",\"PTRATIO\",\"BK\",\"LSTAT\",\"MEDV\"]])\n",
    "# De nuestras variable independeintes removemos las variable cuya correlación fue menor 0.7\n",
    "x = dataset[[\"INDUS\",\"NOX\",\"AGE\",\"DIS\",\"RAD\",\"TAX\",\"LSTAT\"]]\n",
    "# Definimos variable dependiente\n",
    "y = dataset[[\"MEDV\"]]"
   ]
  },
  {
   "cell_type": "code",
   "execution_count": 94,
   "metadata": {
    "colab": {
     "base_uri": "https://localhost:8080/",
     "height": 590
    },
    "colab_type": "code",
    "id": "6gUYnTyjLRKP",
    "outputId": "c13bc365-94dd-4f1f-855d-ae69c168db07"
   },
   "outputs": [
    {
     "name": "stdout",
     "output_type": "stream",
     "text": [
      "                            OLS Regression Results                            \n",
      "==============================================================================\n",
      "Dep. Variable:                   MEDV   R-squared:                       0.599\n",
      "Model:                            OLS   Adj. R-squared:                  0.593\n",
      "Method:                 Least Squares   F-statistic:                     106.1\n",
      "Date:                Mon, 31 Aug 2020   Prob (F-statistic):           1.56e-94\n",
      "Time:                        06:44:18   Log-Likelihood:                -1609.3\n",
      "No. Observations:                 506   AIC:                             3235.\n",
      "Df Residuals:                     498   BIC:                             3268.\n",
      "Df Model:                           7                                         \n",
      "Covariance Type:            nonrobust                                         \n",
      "==============================================================================\n",
      "                 coef    std err          t      P>|t|      [0.025      0.975]\n",
      "------------------------------------------------------------------------------\n",
      "const         48.1128      2.767     17.389      0.000      42.677      53.549\n",
      "INDUS         -0.1738      0.073     -2.375      0.018      -0.318      -0.030\n",
      "NOX           -7.1805      4.413     -1.627      0.104     -15.851       1.490\n",
      "AGE            0.0129      0.016      0.819      0.413      -0.018       0.044\n",
      "DIS           -1.2696      0.224     -5.665      0.000      -1.710      -0.829\n",
      "RAD            0.1874      0.076      2.481      0.013       0.039       0.336\n",
      "TAX           -0.0142      0.004     -3.162      0.002      -0.023      -0.005\n",
      "LSTAT         -0.9265      0.050    -18.453      0.000      -1.025      -0.828\n",
      "==============================================================================\n",
      "Omnibus:                      122.052   Durbin-Watson:                   0.954\n",
      "Prob(Omnibus):                  0.000   Jarque-Bera (JB):              250.885\n",
      "Skew:                           1.306   Prob(JB):                     3.32e-55\n",
      "Kurtosis:                       5.254   Cond. No.                     8.46e+03\n",
      "==============================================================================\n",
      "\n",
      "Warnings:\n",
      "[1] Standard Errors assume that the covariance matrix of the errors is correctly specified.\n",
      "[2] The condition number is large, 8.46e+03. This might indicate that there are\n",
      "strong multicollinearity or other numerical problems.\n"
     ]
    }
   ],
   "source": [
    "# Agregamos 1's a la primer columna como cosntante\n",
    "xones = sm.add_constant(x)\n",
    "# Entrenamos nuestro modelo\n",
    "mymodel = sm.OLS(y, xones).fit()\n",
    "# Imprimimos los resultados\n",
    "print(mymodel.summary())"
   ]
  },
  {
   "cell_type": "markdown",
   "metadata": {
    "colab_type": "text",
    "id": "r0-uUrnwLiej"
   },
   "source": [
    "#### **Comprar significancia de los coeficientes y su coeficiente de determinación ajustado con respecto a los primeros modelos.**"
   ]
  },
  {
   "cell_type": "markdown",
   "metadata": {
    "colab_type": "text",
    "id": "5iN_FcKkLki7"
   },
   "source": [
    "**Modelo 1**\n",
    "* Coeficiente 𝑅² = 0.741\n",
    "* Coeficiente 𝑅² Ajustado = 0.734\n",
    "\n",
    "**Modelo 2**\n",
    "* Coeficiente 𝑅² = 0.741\n",
    "* Coeficiente 𝑅² Ajustado = 0.735\n",
    "\n",
    "**Modelo 3**\n",
    "* Coeficiente 𝑅² = 0.599\n",
    "* Coeficiente 𝑅² Ajustado = 0.593\n",
    "\n",
    "Comparamos los resultados vemos que nuestro tercer modelo tiene un menor desempeño que los dos modelos anteriores, esto tiene sentido ya que ahora sólo usamos 7 variables para explicar nuestro modelo, a pesar de remover la mitad de las variables el coficiente de determinación no disminuyó tanto ya que estas variable son las más significativas para el modelo."
   ]
  },
  {
   "cell_type": "markdown",
   "metadata": {
    "colab_type": "text",
    "id": "e0b8eORB5zVj"
   },
   "source": [
    "### v. Con base a la matriz de correlación con las 14 variables, identifica ahora aquellas variables independientes que tengan una correlación de pearson mayor o igual a 0.5 con respecto a la variable dependiente MEDV. Obtener un cuarto modelo RLM y compararlo con los tres anteriores."
   ]
  },
  {
   "cell_type": "markdown",
   "metadata": {
    "colab_type": "text",
    "id": "jbkS7rJ2OXAv"
   },
   "source": [
    "#### **Variables independientes con un coeficiente de correlación mayor o igual a 0.5 en valor absoluto.**"
   ]
  },
  {
   "cell_type": "code",
   "execution_count": 90,
   "metadata": {
    "colab": {
     "base_uri": "https://localhost:8080/",
     "height": 972
    },
    "colab_type": "code",
    "id": "NQiQPuchOXAy",
    "outputId": "e10a0f7e-98f8-458e-99ea-a7fa5dbc9255"
   },
   "outputs": [
    {
     "name": "stdout",
     "output_type": "stream",
     "text": [
      "CRIM     RAD        0.625505\n",
      "         TAX        0.582764\n",
      "ZN       INDUS      0.533828\n",
      "         NOX        0.516604\n",
      "         AGE        0.569537\n",
      "         DIS        0.664408\n",
      "INDUS    ZN         0.533828\n",
      "         NOX        0.763651\n",
      "         AGE        0.644779\n",
      "         DIS        0.708027\n",
      "         RAD        0.595129\n",
      "         TAX        0.720760\n",
      "         LSTAT      0.603800\n",
      "NOX      ZN         0.516604\n",
      "         INDUS      0.763651\n",
      "         AGE        0.731470\n",
      "         DIS        0.769230\n",
      "         RAD        0.611441\n",
      "         TAX        0.668023\n",
      "         LSTAT      0.590879\n",
      "RM       LSTAT      0.613808\n",
      "         MEDV       0.695360\n",
      "AGE      ZN         0.569537\n",
      "         INDUS      0.644779\n",
      "         NOX        0.731470\n",
      "         DIS        0.747881\n",
      "         TAX        0.506456\n",
      "         LSTAT      0.602339\n",
      "DIS      ZN         0.664408\n",
      "         INDUS      0.708027\n",
      "         NOX        0.769230\n",
      "         AGE        0.747881\n",
      "         TAX        0.534432\n",
      "RAD      CRIM       0.625505\n",
      "         INDUS      0.595129\n",
      "         NOX        0.611441\n",
      "         TAX        0.910228\n",
      "TAX      CRIM       0.582764\n",
      "         INDUS      0.720760\n",
      "         NOX        0.668023\n",
      "         AGE        0.506456\n",
      "         DIS        0.534432\n",
      "         RAD        0.910228\n",
      "         LSTAT      0.543993\n",
      "PTRATIO  MEDV       0.507787\n",
      "LSTAT    INDUS      0.603800\n",
      "         NOX        0.590879\n",
      "         RM         0.613808\n",
      "         AGE        0.602339\n",
      "         TAX        0.543993\n",
      "         MEDV       0.737663\n",
      "MEDV     RM         0.695360\n",
      "         PTRATIO    0.507787\n",
      "         LSTAT      0.737663\n",
      "dtype: float64\n"
     ]
    }
   ],
   "source": [
    "# Obtenemos valor absoluto de las variables\n",
    "correl_matrix = dataset.corr(method='pearson').abs()\n",
    "correl_pairs = correl_matrix.unstack()\n",
    "# Eliminamos los pares de variables que tienen relación consigo mismas (diagonal)\n",
    "independent_pairs = correl_pairs[correl_pairs < 1]\n",
    "# Identificamos aquellos pares de variable cuya correlación es mayor o igual a 0.5\n",
    "independent_pairs = independent_pairs[correl_pairs >= 0.5]\n",
    "print(independent_pairs)"
   ]
  },
  {
   "cell_type": "markdown",
   "metadata": {
    "colab_type": "text",
    "id": "V6rvizHaO13J"
   },
   "source": [
    "Las variables que tienen relacióón con respecto a la variable dependiente MEDV son:\n",
    "* RM\n",
    "* PTRATIO\n",
    "* LSTAT\n",
    "\n",
    "Esto se obserba al final del listado anterior en la consola.\n",
    "\n",
    "```\n",
    "...\n",
    "MEDV     RM         0.695360\n",
    "         PTRATIO    0.507787\n",
    "         LSTAT      0.737663\n",
    "dtype: float64\n",
    "```\n",
    "\n",
    "\n",
    "\n"
   ]
  },
  {
   "cell_type": "markdown",
   "metadata": {
    "colab_type": "text",
    "id": "MJ9MmHJvOXA6"
   },
   "source": [
    "#### **Cuarto modelo de RLM**"
   ]
  },
  {
   "cell_type": "code",
   "execution_count": 97,
   "metadata": {
    "colab": {},
    "colab_type": "code",
    "id": "srf0_mb5OXA7"
   },
   "outputs": [],
   "source": [
    "# Repetimos los pasos de nuestro primer modelo\n",
    "# Definimos el DF para el dataset con el que vamos a trabajar\n",
    "dataset = pd.DataFrame(mydata[[\"CRIM\",\"ZN\",\"INDUS\",\"CHAS\",\"NOX\",\"RM\",\"AGE\",\"DIS\",\"RAD\",\"TAX\",\"PTRATIO\",\"BK\",\"LSTAT\",\"MEDV\"]])\n",
    "# De nuestras variable independeintes removemos las variable cuya correlación fue menor 0.5\n",
    "x = dataset[[\"RM\",\"PTRATIO\",\"LSTAT\"]]\n",
    "# Definimos variable dependiente\n",
    "y = dataset[[\"MEDV\"]]"
   ]
  },
  {
   "cell_type": "code",
   "execution_count": 98,
   "metadata": {
    "colab": {
     "base_uri": "https://localhost:8080/",
     "height": 486
    },
    "colab_type": "code",
    "id": "E0tx6NYxOXBF",
    "outputId": "99105f2d-2617-4cde-8465-70012867f73a"
   },
   "outputs": [
    {
     "name": "stdout",
     "output_type": "stream",
     "text": [
      "                            OLS Regression Results                            \n",
      "==============================================================================\n",
      "Dep. Variable:                   MEDV   R-squared:                       0.679\n",
      "Model:                            OLS   Adj. R-squared:                  0.677\n",
      "Method:                 Least Squares   F-statistic:                     353.3\n",
      "Date:                Mon, 31 Aug 2020   Prob (F-statistic):          2.69e-123\n",
      "Time:                        06:47:46   Log-Likelihood:                -1553.0\n",
      "No. Observations:                 506   AIC:                             3114.\n",
      "Df Residuals:                     502   BIC:                             3131.\n",
      "Df Model:                           3                                         \n",
      "Covariance Type:            nonrobust                                         \n",
      "==============================================================================\n",
      "                 coef    std err          t      P>|t|      [0.025      0.975]\n",
      "------------------------------------------------------------------------------\n",
      "const         18.5671      3.913      4.745      0.000      10.879      26.255\n",
      "RM             4.5154      0.426     10.603      0.000       3.679       5.352\n",
      "PTRATIO       -0.9307      0.118     -7.911      0.000      -1.162      -0.700\n",
      "LSTAT         -0.5718      0.042    -13.540      0.000      -0.655      -0.489\n",
      "==============================================================================\n",
      "Omnibus:                      202.072   Durbin-Watson:                   0.901\n",
      "Prob(Omnibus):                  0.000   Jarque-Bera (JB):             1022.153\n",
      "Skew:                           1.700   Prob(JB):                    1.10e-222\n",
      "Kurtosis:                       9.076   Cond. No.                         402.\n",
      "==============================================================================\n",
      "\n",
      "Warnings:\n",
      "[1] Standard Errors assume that the covariance matrix of the errors is correctly specified.\n"
     ]
    }
   ],
   "source": [
    "# Agregamos 1's a la primer columna como cosntante\n",
    "xones = sm.add_constant(x)\n",
    "# Entrenamos nuestro modelo\n",
    "mymodel = sm.OLS(y, xones).fit()\n",
    "# Imprimimos los resultados\n",
    "print(mymodel.summary())"
   ]
  },
  {
   "cell_type": "markdown",
   "metadata": {
    "colab_type": "text",
    "id": "lRscdkiHOXBK"
   },
   "source": [
    "#### **Comprar significancia de los coeficientes y su coeficiente de determinación ajustado con respecto a los primeros modelos.**"
   ]
  },
  {
   "cell_type": "markdown",
   "metadata": {
    "colab_type": "text",
    "id": "FGiRaRNzOXBK"
   },
   "source": [
    "**Modelo 1**\n",
    "* Coeficiente 𝑅² = 0.741\n",
    "* Coeficiente 𝑅² Ajustado = 0.734\n",
    "\n",
    "**Modelo 2**\n",
    "* Coeficiente 𝑅² = 0.741\n",
    "* Coeficiente 𝑅² Ajustado = 0.735\n",
    "\n",
    "**Modelo 3**\n",
    "* Coeficiente 𝑅² = 0.599\n",
    "* Coeficiente 𝑅² Ajustado = 0.593\n",
    "\n",
    "**Modelo 4**\n",
    "* Coeficiente 𝑅² = 0.679\n",
    "* Coeficiente 𝑅² Ajustado = 0.677\n",
    "\n",
    "Comparamos los resultados vemos que nuestro cuarto modelo tiene un mejor desempeño que el modelo anteriror y muy cercano a los primeros modelos, yesto usando 3 variables para explicar nuestro modelo, esto se debe a que sólo usamos aqueyas variables con una relacióón mayor o igual a 0.5 con respecto a la varaible MEDV, y son las las que mejor explican el modelo."
   ]
  },
  {
   "cell_type": "markdown",
   "metadata": {
    "colab_type": "text",
    "id": "ekScU2OG57kE"
   },
   "source": [
    "### vi. Usando únicamente la matriz 𝑋 con las 3 variables independientes del inciso anterior y la variable de salida MDEV, obtener la matriz de Pearson 𝑋⁺ = (𝑋ᵀ 𝑋)⁻¹𝑋ᵀ. Posteriormente obtener los coeficientes 𝛽 del modelo RLM resultante mediante la expresión: 𝛽 = 𝑋⁺𝑌. Compáralo con el inciso anterior y escribe tus conclusiones."
   ]
  },
  {
   "cell_type": "code",
   "execution_count": 106,
   "metadata": {
    "colab": {},
    "colab_type": "code",
    "id": "hlApFF64qtSj"
   },
   "outputs": [],
   "source": [
    "dataset = pd.DataFrame(mydata[[\"CRIM\",\"ZN\",\"INDUS\",\"CHAS\",\"NOX\",\"RM\",\"AGE\",\"DIS\",\"RAD\",\"TAX\",\"PTRATIO\",\"BK\",\"LSTAT\",\"MEDV\"]])\n",
    "# Variables identificadas en el inciso anterior\n",
    "x = dataset[[\"RM\",\"PTRATIO\",\"LSTAT\"]]\n",
    "# Variable de salida MDEV\n",
    "y = dataset[[\"MEDV\"]]"
   ]
  },
  {
   "cell_type": "code",
   "execution_count": 113,
   "metadata": {
    "colab": {},
    "colab_type": "code",
    "id": "uAvCJTp6rXoD"
   },
   "outputs": [],
   "source": [
    "# Agregamos 1's a la primer columna como cosntante\n",
    "xones = sm.add_constant(x)"
   ]
  },
  {
   "cell_type": "markdown",
   "metadata": {
    "colab_type": "text",
    "id": "AWkF-zQdVfXz"
   },
   "source": [
    "#### **Matríz pseudo inversa de Moore-Penrose**"
   ]
  },
  {
   "cell_type": "code",
   "execution_count": 114,
   "metadata": {
    "colab": {
     "base_uri": "https://localhost:8080/",
     "height": 156
    },
    "colab_type": "code",
    "id": "5P9oun8JYtYP",
    "outputId": "8dd02891-49b1-49f7-a0ec-0856f3902bf2"
   },
   "outputs": [
    {
     "name": "stdout",
     "output_type": "stream",
     "text": [
      "[[ 0.03952983  0.01043917 -0.01706077 ... -0.04472625 -0.03726603\n",
      "  -0.00082618]\n",
      " [-0.00186772 -0.00058374  0.00261906 ...  0.00282858  0.00192797\n",
      "  -0.00262827]\n",
      " [-0.00121137 -0.00015405  0.00028275 ...  0.00177491  0.00168533\n",
      "   0.00139088]\n",
      " [-0.00027339 -0.0001542  -0.00020874 ... -0.00030277 -0.00031439\n",
      "  -0.0005018 ]]\n"
     ]
    }
   ],
   "source": [
    "# Matriz pseudo inversa de Moore-Penrose\n",
    "mat_penrose = np.linalg.pinv(xones)\n",
    "print(mat_penrose)"
   ]
  },
  {
   "cell_type": "markdown",
   "metadata": {
    "colab_type": "text",
    "id": "LPrW9PhAV5AV"
   },
   "source": [
    "#### **Coeficientes 𝛽 del modelo RLM**"
   ]
  },
  {
   "cell_type": "code",
   "execution_count": 115,
   "metadata": {
    "colab": {
     "base_uri": "https://localhost:8080/",
     "height": 104
    },
    "colab_type": "code",
    "id": "Av3xvyYrRD2b",
    "outputId": "3030e275-d0ac-4e58-8f9a-23ee4aeebb20"
   },
   "outputs": [
    {
     "name": "stdout",
     "output_type": "stream",
     "text": [
      "Index(['RM', 'PTRATIO', 'LSTAT'], dtype='object')\n",
      "[[18.56711151]\n",
      " [ 4.51542094]\n",
      " [-0.93072256]\n",
      " [-0.57180569]]\n"
     ]
    }
   ],
   "source": [
    "from numpy.linalg import pinv\n",
    "# calculamos coeficientes\n",
    "b = pinv(xones).dot(y)\n",
    "print(x.columns)\n",
    "print(b)"
   ]
  },
  {
   "cell_type": "markdown",
   "metadata": {
    "colab_type": "text",
    "id": "xE01NSFWYB2X"
   },
   "source": [
    "#### **Comparación de los coeficientes del Modelo RLM**"
   ]
  },
  {
   "cell_type": "markdown",
   "metadata": {
    "colab_type": "text",
    "id": "vB0wWtlonq4w"
   },
   "source": [
    "**1. Coeficientes obtenidos con el modelo 4**\n",
    "\n",
    "```\n",
    "=======================\n",
    "variable        coef  \n",
    "-----------------------\n",
    "const         18.5671\n",
    "RM             4.5154 \n",
    "PTRATIO       -0.9307\n",
    "LSTAT         -0.5718\n",
    "```\n",
    "\n",
    "\n",
    "\n",
    "\n",
    "\n",
    "**2. Coeficientes Obtenidos con la matriz de Penrose**\n",
    "\n",
    "```\n",
    "===========================\n",
    "variable        coef  \n",
    "---------------------------\n",
    "const         18.56711151\n",
    "RM             4.51542094\n",
    "PTRATIO       -0.93072256\n",
    "LSTAT         -0.57180569\n",
    "```\n",
    "\n",
    "\n",
    "**En conclusion:**\n",
    "\n",
    "Al analizar los coeficientes podemos observar que los que obtuvimos empleando la matriz de pearson tienen mayor presición que los que conseguimos en el modelo 4, pero si consideramos una presición de 4 decimales, los coeficientes en escencia resultan ser los mismos. Esto indica la utilidad de la matriz de pearson."
   ]
  },
  {
   "cell_type": "markdown",
   "metadata": {
    "colab_type": "text",
    "id": "JdIhwnGB6R4-"
   },
   "source": [
    "### vii. Finalmente escribe tus conclusiones de los resultados obtenidos."
   ]
  },
  {
   "cell_type": "markdown",
   "metadata": {
    "colab_type": "text",
    "id": "_HWcXFIuZeu9"
   },
   "source": [
    "#### **Conclusiones**\n",
    "\n",
    "Gracias a los ejercicios realizados en esta tarea podemos concluir que es necesario un análisis profundo de los datos para poder seleccionar las variables independientes que resulten más significativas para representar nuestro modelo.\n",
    "\n",
    "En los primero ejercicios descartamos variables como AGE e INDUS basándonos méramente en el *p-value* sin embargo en el tercer modelo estas variables son parte del set que sí utlizamos dado que su coeficiente de correlación era alto.\n",
    "\n",
    "Otro punto importante fue el uso de la correlación con respecto a la variable independiente aquí fue claroque con solo 3 variables podíamos obtener resultados muyr cercanos a los observados en nuestro primer modelo de 14 variables, esto debido a que seleccionamos las variables que mayor relación tenían con la variable dependiente.\n",
    "\n",
    "Finalmente podemos comprobar la utilidad de la Matrix pseudo inversa de Moore-Penrose para el análisis de coeficientes.\n",
    "Con estas herramientas podremos decidir de una mejor manera que variables emplear para la generacion de modelos significativos y eficientes.\n",
    "\n"
   ]
  }
 ],
 "metadata": {
  "colab": {
   "name": "A00540988 Tarea 2-RLM .ipynb",
   "provenance": []
  },
  "kernelspec": {
   "display_name": "Python 3",
   "language": "python",
   "name": "python3"
  },
  "language_info": {
   "codemirror_mode": {
    "name": "ipython",
    "version": 3
   },
   "file_extension": ".py",
   "mimetype": "text/x-python",
   "name": "python",
   "nbconvert_exporter": "python",
   "pygments_lexer": "ipython3",
   "version": "3.7.6"
  }
 },
 "nbformat": 4,
 "nbformat_minor": 1
}
